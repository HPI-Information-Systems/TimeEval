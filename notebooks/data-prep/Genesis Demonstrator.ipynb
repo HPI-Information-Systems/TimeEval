{
 "cells": [
  {
   "cell_type": "markdown",
   "metadata": {},
   "source": [
    "# Genesis Demonstrator"
   ]
  },
  {
   "cell_type": "code",
   "execution_count": 4,
   "metadata": {},
   "outputs": [],
   "source": [
    "import pandas as pd\n",
    "import os\n",
    "from typing import Final\n",
    "from config import data_raw_folder, data_processed_folder\n",
    "from timeeval import Datasets"
   ]
  },
  {
   "cell_type": "code",
   "execution_count": 5,
   "metadata": {},
   "outputs": [
    {
     "name": "stdout",
     "output_type": "stream",
     "text": [
      "Looking for source datasets in /home/projects/akita/data/benchmark-data/data-raw/genesis-demonstrator/data and\n",
      "saving processed datasets in /home/projects/akita/data/benchmark-data/data-processed\n"
     ]
    }
   ],
   "source": [
    "dataset_collection_name = \"Genesis\"\n",
    "source_folder = os.path.join(data_raw_folder, \"genesis-demonstrator/data\")\n",
    "target_folder = data_processed_folder\n",
    "\n",
    "from pathlib import Path\n",
    "print(f\"Looking for source datasets in {Path(source_folder).absolute()} and\\nsaving processed datasets in {Path(target_folder).absolute()}\")"
   ]
  },
  {
   "cell_type": "markdown",
   "metadata": {},
   "source": [
    "## Dataset transformation and pre-processing"
   ]
  },
  {
   "cell_type": "code",
   "execution_count": 6,
   "metadata": {},
   "outputs": [
    {
     "name": "stdout",
     "output_type": "stream",
     "text": [
      "Directories /home/projects/akita/data/benchmark-data/data-processed/multivariate/Genesis already exist\n"
     ]
    }
   ],
   "source": [
    "train_type = \"unsupervised\"\n",
    "train_is_normal = False\n",
    "input_type = \"multivariate\"\n",
    "datetime_index = True\n",
    "dataset_type = \"real\"\n",
    "\n",
    "# create target directory\n",
    "dataset_subfolder = os.path.join(input_type, dataset_collection_name)\n",
    "target_subfolder = os.path.join(target_folder, dataset_subfolder)\n",
    "try:\n",
    "    os.makedirs(target_subfolder)\n",
    "    print(f\"Created directories {target_subfolder}\")\n",
    "except FileExistsError:\n",
    "    print(f\"Directories {target_subfolder} already exist\")\n",
    "    pass\n",
    "\n",
    "dm = Datasets(target_folder)"
   ]
  },
  {
   "cell_type": "code",
   "execution_count": 8,
   "metadata": {},
   "outputs": [
    {
     "name": "stdout",
     "output_type": "stream",
     "text": [
      "Processed source dataset /home/projects/akita/data/benchmark-data/data-raw/genesis-demonstrator/data/Genesis_AnomalyLabels.csv -> /home/projects/akita/data/benchmark-data/data-processed/multivariate/Genesis/genesis-anomalies.test.csv\n"
     ]
    }
   ],
   "source": [
    "# get target filenames\n",
    "dataset_name = \"genesis-anomalies\"\n",
    "filename = f\"{dataset_name}.test.csv\"\n",
    "\n",
    "source_file = os.path.join(source_folder, \"Genesis_AnomalyLabels.csv\")\n",
    "path = os.path.join(dataset_subfolder, filename)\n",
    "target_filepath = os.path.join(target_subfolder, filename)\n",
    "\n",
    "# transform file\n",
    "df = pd.read_csv(source_file)\n",
    "#df = df.rename(columns={\"Timestamp\": \"timestamp\"})\n",
    "df.insert(len(df.columns), \"is_anomaly\", df.loc[:, \"Label\"])\n",
    "df.insert(1, \"timestamp\", pd.to_datetime(df[\"Timestamp\"], unit='s'))\n",
    "df = df.drop(columns=[\"Timestamp\", \"Label\"])\n",
    "df.to_csv(target_filepath, index=False)\n",
    "print(f\"Processed source dataset {source_file} -> {target_filepath}\")\n",
    "\n",
    "dataset_length = len(df)\n",
    "\n",
    "# save metadata\n",
    "dm.add_dataset((dataset_collection_name, dataset_name),\n",
    "    train_path = None,\n",
    "    test_path = path,\n",
    "    dataset_type = dataset_type,\n",
    "    datetime_index = datetime_index,\n",
    "    split_at = None,\n",
    "    train_type = train_type,\n",
    "    train_is_normal = train_is_normal,\n",
    "    input_type = input_type,\n",
    "    dataset_length = dataset_length\n",
    ")\n",
    "\n",
    "dm.save()"
   ]
  },
  {
   "cell_type": "code",
   "execution_count": 9,
   "metadata": {},
   "outputs": [
    {
     "data": {
      "text/html": [
       "<div>\n",
       "<style scoped>\n",
       "    .dataframe tbody tr th:only-of-type {\n",
       "        vertical-align: middle;\n",
       "    }\n",
       "\n",
       "    .dataframe tbody tr th {\n",
       "        vertical-align: top;\n",
       "    }\n",
       "\n",
       "    .dataframe thead th {\n",
       "        text-align: right;\n",
       "    }\n",
       "</style>\n",
       "<table border=\"1\" class=\"dataframe\">\n",
       "  <thead>\n",
       "    <tr style=\"text-align: right;\">\n",
       "      <th></th>\n",
       "      <th>train_path</th>\n",
       "      <th>test_path</th>\n",
       "      <th>dataset_type</th>\n",
       "      <th>datetime_index</th>\n",
       "      <th>split_at</th>\n",
       "      <th>train_type</th>\n",
       "      <th>train_is_normal</th>\n",
       "      <th>input_type</th>\n",
       "      <th>length</th>\n",
       "    </tr>\n",
       "    <tr>\n",
       "      <th>dataset_name</th>\n",
       "      <th></th>\n",
       "      <th></th>\n",
       "      <th></th>\n",
       "      <th></th>\n",
       "      <th></th>\n",
       "      <th></th>\n",
       "      <th></th>\n",
       "      <th></th>\n",
       "      <th></th>\n",
       "    </tr>\n",
       "  </thead>\n",
       "  <tbody>\n",
       "    <tr>\n",
       "      <th>genesis-anomalies</th>\n",
       "      <td>NaN</td>\n",
       "      <td>multivariate/Genesis/genesis-anomalies.test.csv</td>\n",
       "      <td>real</td>\n",
       "      <td>True</td>\n",
       "      <td>NaN</td>\n",
       "      <td>unsupervised</td>\n",
       "      <td>False</td>\n",
       "      <td>multivariate</td>\n",
       "      <td>16220</td>\n",
       "    </tr>\n",
       "  </tbody>\n",
       "</table>\n",
       "</div>"
      ],
      "text/plain": [
       "                  train_path                                        test_path  \\\n",
       "dataset_name                                                                    \n",
       "genesis-anomalies        NaN  multivariate/Genesis/genesis-anomalies.test.csv   \n",
       "\n",
       "                  dataset_type  datetime_index  split_at    train_type  \\\n",
       "dataset_name                                                             \n",
       "genesis-anomalies         real            True       NaN  unsupervised   \n",
       "\n",
       "                   train_is_normal    input_type  length  \n",
       "dataset_name                                              \n",
       "genesis-anomalies            False  multivariate   16220  "
      ]
     },
     "execution_count": 9,
     "metadata": {},
     "output_type": "execute_result"
    }
   ],
   "source": [
    "dm.refresh()\n",
    "dm._df.loc[\"Genesis\"]"
   ]
  },
  {
   "cell_type": "code",
   "execution_count": null,
   "metadata": {},
   "outputs": [],
   "source": []
  }
 ],
 "metadata": {
  "kernelspec": {
   "display_name": "timeeval",
   "language": "python",
   "name": "timeeval"
  },
  "language_info": {
   "codemirror_mode": {
    "name": "ipython",
    "version": 3
   },
   "file_extension": ".py",
   "mimetype": "text/x-python",
   "name": "python",
   "nbconvert_exporter": "python",
   "pygments_lexer": "ipython3",
   "version": "3.9.1"
  }
 },
 "nbformat": 4,
 "nbformat_minor": 4
}
